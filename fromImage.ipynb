{
 "cells": [
  {
   "cell_type": "code",
   "execution_count": 1,
   "metadata": {},
   "outputs": [],
   "source": [
    "import numpy\n",
    "import binascii\n",
    "import cv2, base64\n",
    "import numpy as np\n",
    "from pprint import pprint"
   ]
  },
  {
   "cell_type": "code",
   "execution_count": 2,
   "metadata": {},
   "outputs": [],
   "source": [
    "def decode(enc, key):\n",
    "    dec = []\n",
    "    enc = base64.urlsafe_b64decode(enc).decode()\n",
    "    for i in range(len(enc)):\n",
    "        key_c = key[i % len(key)]\n",
    "        dec_c = chr((256 + ord(enc[i]) - ord(key_c)) % 256)\n",
    "        dec.append(dec_c)\n",
    "    dec = \"\".join(dec)\n",
    "    return dec\n",
    "\n",
    "def bits2text(bits, encoding='utf-8', errors='surrogatepass'):\n",
    "    n = int(bits, 2)\n",
    "    Bits2text = n.to_bytes((n.bit_length() + 7) // 8, 'big').decode(encoding, errors) or '\\0'\n",
    "    return Bits2text"
   ]
  },
  {
   "cell_type": "code",
   "execution_count": 3,
   "metadata": {},
   "outputs": [],
   "source": [
    "class Texty:\n",
    "    def __init__(self, filename, n=2):\n",
    "        self.filename = filename        \n",
    "        self.image = cv2.imread(self.filename)\n",
    "        self.n = n\n",
    "    \n",
    "    decrypt = lambda self, text, key: decode(text, key)\n",
    "    bits2text = lambda self, bits: bits2text(bits)\n",
    "    int2bin = lambda self, x: format(x, 'b')\n",
    "    bin2int = lambda self, x: int(format(int(x, 2), 'd'))\n",
    "    extractItemsBack = lambda self, num: self.int2bin(num)[-n:]    \n",
    "    \n",
    "    def loadImage(self):\n",
    "        length, count, string = 12, 0, ''\n",
    "        dataSaver, image = [], self.image\n",
    "        for i in range(len(image)):\n",
    "            for j in range(len(image[i])):\n",
    "                for k in range(3):\n",
    "                    if count>= length: break\n",
    "                    count += 1\n",
    "                    element = image[i][j][k]            \n",
    "                    element = self.extractItemsBack(element)\n",
    "                    dataSaver.append(element)\n",
    "                if count>= length: break\n",
    "            if count>= length: break\n",
    "\n",
    "        self.bin24 = ''.join(dataSaver)\n",
    "        self.distance = self.bin2int(self.bin24)\n",
    "        \n",
    "    def changeImage(self):\n",
    "        \n",
    "        length, count, string = self.distance+12, 0, ''\n",
    "        dataSaver = []    \n",
    "        image = self.image\n",
    "        for i in range(len(image)):\n",
    "            for j in range(len(image[i])):\n",
    "                for k in range(3):\n",
    "                    if count>= length: break\n",
    "                    count += 1\n",
    "                    element = image[i][j][k]            \n",
    "                    element = self.extractItemsBack(element)\n",
    "                    dataSaver.append(element)\n",
    "                if count>= length: break\n",
    "            if count>= length: break\n",
    "\n",
    "        self.bin24 = ''.join(dataSaver)[24:]\n",
    "    \n",
    "    def getText(self, key):\n",
    "        encryptedText = self.bits2text(self.bin24)\n",
    "        return self.decrypt(encryptedText, key)"
   ]
  },
  {
   "cell_type": "code",
   "execution_count": 9,
   "metadata": {},
   "outputs": [],
   "source": [
    "a = Texty('changed-abc.png', n=2)\n",
    "\n",
    "a.loadImage()\n",
    "a.changeImage()"
   ]
  },
  {
   "cell_type": "code",
   "execution_count": 10,
   "metadata": {},
   "outputs": [
    {
     "data": {
      "text/plain": [
       "'Text messaging, or texting, is the act of composing and sending electronic messages, typically consisting of alphabetic and numeric characters, between two or more users of mobile phones, tablets, desktops/laptops, or other devices. Text messages may be sent over a cellular network, or may also be sent via an Internet connection.\\n\\nThe term originally referred to messages sent using the Short Message Service (SMS). It has grown beyond alphanumeric text to include multimedia messages (known as MMS) containing digital images, videos, and sound content, as well as ideograms known as emoji (happy faces, sad faces, and other icons).\\n\\nAs of 2017, text messages are used by youth and adults for personal, family and social purposes and in business. Governmental and non-governmental organizations use text messaging for communication between colleagues. As with emailing, in the 2010s, the sending of short informal messages has become an accepted part of many cultures.[1] This makes texting a quick and easy way to communicate with friends and colleagues, including in contexts where a call would be impolite or inappropriate (e.g., calling very late at night or when one knows the other person is busy with family or work activities). Like e-mail and voice mail, and unlike calls (in which the caller hopes to speak directly with the recipient), texting does not require the caller and recipient to both be free at the same moment; this permits communication even between busy individuals. Text messages can also be used to interact with automated systems, for example, to order products or services from e-commerce websites, or to participate in online contests. Advertisers and service providers use direct text marketing to send messages to mobile users about promotions, payment due dates, and other notifications instead of using postal mail, email, or voicemail.\\nText messaging, or texting, is the act of composing and sending electronic messages, typically consisting of alphabetic and numeric characters, between two or more users of mobile phones, tablets, desktops/laptops, or other devices. Text messages may be sent over a cellular network, or may also be sent via an Internet connection.\\n\\nThe term originally referred to messages sent using the Short Message Service (SMS). It has grown beyond alphanumeric text to include multimedia messages (known as MMS) containing digital images, videos, and sound content, as well as ideograms known as emoji (happy faces, sad faces, and other icons).\\n\\nAs of 2017, text messages are used by youth and adults for personal, family and social purposes and in business. Governmental and non-governmental organizations use text messaging for communication between colleagues. As with emailing, in the 2010s, the sending of short informal messages has become an accepted part of many cultures.[1] This makes texting a quick and easy way to communicate with friends and colleagues, including in contexts where a call would be impolite or inappropriate (e.g., calling very late at night or when one knows the other person is busy with family or work activities). Like e-mail and voice mail, and unlike calls (in which the caller hopes to speak directly with the recipient), texting does not require the caller and recipient to both be free at the same moment; this permits communication even between busy individuals. Text messages can also be used to interact with automated systems, for example, to order products or services from e-commerce websites, or to participate in online contests. Advertisers and service providers use direct text marketing to send messages to mobile users about promotions, payment due dates, and other notifications instead of using postal mail, email, or voicemail.\\n'"
      ]
     },
     "execution_count": 10,
     "metadata": {},
     "output_type": "execute_result"
    }
   ],
   "source": [
    "a.getText('password24')"
   ]
  },
  {
   "cell_type": "code",
   "execution_count": null,
   "metadata": {},
   "outputs": [],
   "source": []
  }
 ],
 "metadata": {
  "kernelspec": {
   "display_name": "Python 3",
   "language": "python",
   "name": "python3"
  },
  "language_info": {
   "codemirror_mode": {
    "name": "ipython",
    "version": 3
   },
   "file_extension": ".py",
   "mimetype": "text/x-python",
   "name": "python",
   "nbconvert_exporter": "python",
   "pygments_lexer": "ipython3",
   "version": "3.6.5"
  }
 },
 "nbformat": 4,
 "nbformat_minor": 2
}
