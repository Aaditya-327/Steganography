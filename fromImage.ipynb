{
 "cells": [
  {
   "cell_type": "code",
   "execution_count": 1,
   "metadata": {},
   "outputs": [],
   "source": [
    "import numpy\n",
    "import binascii\n",
    "import cv2, base64\n",
    "import numpy as np\n",
    "from pprint import pprint"
   ]
  },
  {
   "cell_type": "code",
   "execution_count": 2,
   "metadata": {},
   "outputs": [],
   "source": [
    "def encode(text, key):\n",
    "    enc = []\n",
    "    for i in range(len(text)):\n",
    "        key_c = key[i % len(key)]\n",
    "        enc_c = chr((ord(text[i]) + ord(key_c)) % 256)\n",
    "        enc.append(enc_c)\n",
    "    enc = base64.urlsafe_b64encode(\"\".join(enc).encode()).decode()\n",
    "    return enc\n",
    "\n",
    "def decode(enc, key):\n",
    "    dec = []\n",
    "    enc = base64.urlsafe_b64decode(enc).decode()\n",
    "    for i in range(len(enc)):\n",
    "        key_c = key[i % len(key)]\n",
    "        dec_c = chr((256 + ord(enc[i]) - ord(key_c)) % 256)\n",
    "        dec.append(dec_c)\n",
    "    dec = \"\".join(dec)\n",
    "    return dec\n",
    "\n",
    "def text2bits(text, encoding='utf-8', errors='surrogatepass'):\n",
    "    bits = bin(int.from_bytes(text.encode(encoding, errors), 'big'))[2:]\n",
    "    Text2bits = bits.zfill(8 * ((len(bits) + 7) // 8))\n",
    "    return Text2bits\n",
    "\n",
    "def bits2text(bits, encoding='utf-8', errors='surrogatepass'):\n",
    "    n = int(bits, 2)\n",
    "    Bits2text = n.to_bytes((n.bit_length() + 7) // 8, 'big').decode(encoding, errors) or '\\0'\n",
    "    return Bits2text\n",
    "\n",
    "def chunks(string, num):\n",
    "    \"\"\"Produce `n`-character chunks from `s`.\"\"\"\n",
    "    for start in range(0, len(string), num):\n",
    "        yield string[start: start+num]"
   ]
  },
  {
   "cell_type": "code",
   "execution_count": 3,
   "metadata": {},
   "outputs": [],
   "source": [
    "class Text:\n",
    "    def __init__(self, text, n=2):\n",
    "        self.text = text\n",
    "        self.n = n\n",
    "    \n",
    "    encrypt = lambda self, key: encode(self.text, key)\n",
    "    decrypt = lambda self, key: decode(self.text, key)\n",
    "    text2bits = lambda self, text: text2bits(text)\n",
    "    bits2text = lambda self, bits: bits2text(bits)\n",
    "    int2bin = lambda self, x: format(x, 'b')\n",
    "    bin2int = lambda self, x: int(format(int(x, 2), 'd'))\n",
    "    \n",
    "    def genBinCode(self, key):\n",
    "        encodedText = self.encrypt(key)\n",
    "        encodedBinaryText = self.text2bits(encodedText)\n",
    "        encodedLengthGroup = int(len(encodedBinaryText)/int(self.n))\n",
    "        encodedBitGroup = self.int2bin(encodedLengthGroup).zfill(24)\n",
    "        self.insertString = encodedBitGroup+ encodedBinaryText\n",
    "        return encodedBitGroup, encodedBinaryText\n",
    "        \n",
    "    def elementData(self, value, data):\n",
    "        binary = self.int2bin(value)[:-int(self.n)] + data\n",
    "        return self.bin2int(binary)\n",
    "    \n",
    "    def readImage(self, filename):\n",
    "        self.filename = filename\n",
    "        self.image = cv2.imread(filename)\n",
    "    \n",
    "    def changeImage(self):\n",
    "        insertStringList, image = [], self.image\n",
    "        insertString = self.insertString\n",
    "        for chunk in chunks(insertString, int(self.n)): insertStringList.append(chunk)\n",
    "            \n",
    "        length, count = len(insertStringList), 0\n",
    "        for i in range(len(image)):\n",
    "            for j in range(len(image[i])):\n",
    "                for k in range(3):\n",
    "                    if count< length: \n",
    "                        data = insertStringList[count]\n",
    "                        count += 1\n",
    "                        element = image[i][j][k]\n",
    "                        element = self.elementData(element, data)\n",
    "                        image[i][j][k] = element\n",
    "                    else:\n",
    "                        image[i][j][k] = image[i][j][k]        \n",
    "        self.image = image\n",
    "    \n",
    "    def saveImage(self):\n",
    "        cv2.imwrite('changed-'+self.filename, self.image)"
   ]
  },
  {
   "cell_type": "code",
   "execution_count": 9,
   "metadata": {},
   "outputs": [],
   "source": [
    "texts = '''Text messaging, or texting, is the act of composing and sending electronic messages, typically consisting of alphabetic and numeric characters, between two or more users of mobile phones, tablets, desktops/laptops, or other devices. Text messages may be sent over a cellular network, or may also be sent via an Internet connection.\n",
    "\n",
    "The term originally referred to messages sent using the Short Message Service (SMS). It has grown beyond alphanumeric text to include multimedia messages (known as MMS) containing digital images, videos, and sound content, as well as ideograms known as emoji (happy faces, sad faces, and other icons).\n",
    "\n",
    "As of 2017, text messages are used by youth and adults for personal, family and social purposes and in business. Governmental and non-governmental organizations use text messaging for communication between colleagues. As with emailing, in the 2010s, the sending of short informal messages has become an accepted part of many cultures.[1] This makes texting a quick and easy way to communicate with friends and colleagues, including in contexts where a call would be impolite or inappropriate (e.g., calling very late at night or when one knows the other person is busy with family or work activities). Like e-mail and voice mail, and unlike calls (in which the caller hopes to speak directly with the recipient), texting does not require the caller and recipient to both be free at the same moment; this permits communication even between busy individuals. Text messages can also be used to interact with automated systems, for example, to order products or services from e-commerce websites, or to participate in online contests. Advertisers and service providers use direct text marketing to send messages to mobile users about promotions, payment due dates, and other notifications instead of using postal mail, email, or voicemail.\n",
    "'''*7"
   ]
  },
  {
   "cell_type": "code",
   "execution_count": 10,
   "metadata": {},
   "outputs": [],
   "source": [
    "a = Text(texts, n=4)\n",
    "a.genBinCode('password24')\n",
    "a.readImage('abc.png')\n",
    "a.changeImage()\n",
    "a.saveImage()"
   ]
  },
  {
   "cell_type": "code",
   "execution_count": null,
   "metadata": {},
   "outputs": [],
   "source": []
  },
  {
   "cell_type": "code",
   "execution_count": null,
   "metadata": {},
   "outputs": [],
   "source": []
  }
 ],
 "metadata": {
  "kernelspec": {
   "display_name": "Python 3",
   "language": "python",
   "name": "python3"
  },
  "language_info": {
   "codemirror_mode": {
    "name": "ipython",
    "version": 3
   },
   "file_extension": ".py",
   "mimetype": "text/x-python",
   "name": "python",
   "nbconvert_exporter": "python",
   "pygments_lexer": "ipython3",
   "version": "3.6.5"
  }
 },
 "nbformat": 4,
 "nbformat_minor": 2
}
